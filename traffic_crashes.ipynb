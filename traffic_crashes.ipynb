{
 "cells": [
  {
   "cell_type": "markdown",
   "metadata": {},
   "source": [
    "# Chicago Traffic Crashes\n",
    "## Azamat Kabylbay\n",
    "### Dataset from: *https://catalog.data.gov/dataset/traffic-crashes-crashes*"
   ]
  },
  {
   "cell_type": "code",
   "execution_count": 1,
   "metadata": {},
   "outputs": [
    {
     "data": {
      "text/html": [
       "<div>\n",
       "<style scoped>\n",
       "    .dataframe tbody tr th:only-of-type {\n",
       "        vertical-align: middle;\n",
       "    }\n",
       "\n",
       "    .dataframe tbody tr th {\n",
       "        vertical-align: top;\n",
       "    }\n",
       "\n",
       "    .dataframe thead th {\n",
       "        text-align: right;\n",
       "    }\n",
       "</style>\n",
       "<table border=\"1\" class=\"dataframe\">\n",
       "  <thead>\n",
       "    <tr style=\"text-align: right;\">\n",
       "      <th></th>\n",
       "      <th>CRASH_RECORD_ID</th>\n",
       "      <th>CRASH_DATE_EST_I</th>\n",
       "      <th>CRASH_DATE</th>\n",
       "      <th>POSTED_SPEED_LIMIT</th>\n",
       "      <th>TRAFFIC_CONTROL_DEVICE</th>\n",
       "      <th>DEVICE_CONDITION</th>\n",
       "      <th>WEATHER_CONDITION</th>\n",
       "      <th>LIGHTING_CONDITION</th>\n",
       "      <th>FIRST_CRASH_TYPE</th>\n",
       "      <th>TRAFFICWAY_TYPE</th>\n",
       "      <th>...</th>\n",
       "      <th>INJURIES_NON_INCAPACITATING</th>\n",
       "      <th>INJURIES_REPORTED_NOT_EVIDENT</th>\n",
       "      <th>INJURIES_NO_INDICATION</th>\n",
       "      <th>INJURIES_UNKNOWN</th>\n",
       "      <th>CRASH_HOUR</th>\n",
       "      <th>CRASH_DAY_OF_WEEK</th>\n",
       "      <th>CRASH_MONTH</th>\n",
       "      <th>LATITUDE</th>\n",
       "      <th>LONGITUDE</th>\n",
       "      <th>LOCATION</th>\n",
       "    </tr>\n",
       "  </thead>\n",
       "  <tbody>\n",
       "    <tr>\n",
       "      <th>0</th>\n",
       "      <td>6c1659069e9c6285a650e70d6f9b574ed5f64c12888479...</td>\n",
       "      <td>NaN</td>\n",
       "      <td>08/18/2023 12:50:00 PM</td>\n",
       "      <td>15</td>\n",
       "      <td>OTHER</td>\n",
       "      <td>FUNCTIONING PROPERLY</td>\n",
       "      <td>CLEAR</td>\n",
       "      <td>DAYLIGHT</td>\n",
       "      <td>REAR END</td>\n",
       "      <td>OTHER</td>\n",
       "      <td>...</td>\n",
       "      <td>1.0</td>\n",
       "      <td>0.0</td>\n",
       "      <td>1.0</td>\n",
       "      <td>0.0</td>\n",
       "      <td>12</td>\n",
       "      <td>6</td>\n",
       "      <td>8</td>\n",
       "      <td>NaN</td>\n",
       "      <td>NaN</td>\n",
       "      <td>NaN</td>\n",
       "    </tr>\n",
       "    <tr>\n",
       "      <th>1</th>\n",
       "      <td>5f54a59fcb087b12ae5b1acff96a3caf4f2d37e79f8db4...</td>\n",
       "      <td>NaN</td>\n",
       "      <td>07/29/2023 02:45:00 PM</td>\n",
       "      <td>30</td>\n",
       "      <td>TRAFFIC SIGNAL</td>\n",
       "      <td>FUNCTIONING PROPERLY</td>\n",
       "      <td>CLEAR</td>\n",
       "      <td>DAYLIGHT</td>\n",
       "      <td>PARKED MOTOR VEHICLE</td>\n",
       "      <td>DIVIDED - W/MEDIAN (NOT RAISED)</td>\n",
       "      <td>...</td>\n",
       "      <td>0.0</td>\n",
       "      <td>0.0</td>\n",
       "      <td>1.0</td>\n",
       "      <td>0.0</td>\n",
       "      <td>14</td>\n",
       "      <td>7</td>\n",
       "      <td>7</td>\n",
       "      <td>41.854120</td>\n",
       "      <td>-87.665902</td>\n",
       "      <td>POINT (-87.665902342962 41.854120262952)</td>\n",
       "    </tr>\n",
       "    <tr>\n",
       "      <th>2</th>\n",
       "      <td>61fcb8c1eb522a6469b460e2134df3d15f82e81fd93e9c...</td>\n",
       "      <td>NaN</td>\n",
       "      <td>08/18/2023 05:58:00 PM</td>\n",
       "      <td>30</td>\n",
       "      <td>NO CONTROLS</td>\n",
       "      <td>NO CONTROLS</td>\n",
       "      <td>CLEAR</td>\n",
       "      <td>DAYLIGHT</td>\n",
       "      <td>PEDALCYCLIST</td>\n",
       "      <td>NOT DIVIDED</td>\n",
       "      <td>...</td>\n",
       "      <td>1.0</td>\n",
       "      <td>0.0</td>\n",
       "      <td>1.0</td>\n",
       "      <td>0.0</td>\n",
       "      <td>17</td>\n",
       "      <td>6</td>\n",
       "      <td>8</td>\n",
       "      <td>41.942976</td>\n",
       "      <td>-87.761883</td>\n",
       "      <td>POINT (-87.761883496974 41.942975745006)</td>\n",
       "    </tr>\n",
       "    <tr>\n",
       "      <th>3</th>\n",
       "      <td>004cd14d0303a9163aad69a2d7f341b7da2a8572b2ab33...</td>\n",
       "      <td>NaN</td>\n",
       "      <td>11/26/2019 08:38:00 AM</td>\n",
       "      <td>25</td>\n",
       "      <td>NO CONTROLS</td>\n",
       "      <td>NO CONTROLS</td>\n",
       "      <td>CLEAR</td>\n",
       "      <td>DAYLIGHT</td>\n",
       "      <td>PEDESTRIAN</td>\n",
       "      <td>ONE-WAY</td>\n",
       "      <td>...</td>\n",
       "      <td>0.0</td>\n",
       "      <td>0.0</td>\n",
       "      <td>1.0</td>\n",
       "      <td>0.0</td>\n",
       "      <td>8</td>\n",
       "      <td>3</td>\n",
       "      <td>11</td>\n",
       "      <td>NaN</td>\n",
       "      <td>NaN</td>\n",
       "      <td>NaN</td>\n",
       "    </tr>\n",
       "    <tr>\n",
       "      <th>4</th>\n",
       "      <td>a1d5f0ea90897745365a4cbb06cc60329a120d89753fac...</td>\n",
       "      <td>NaN</td>\n",
       "      <td>08/18/2023 10:45:00 AM</td>\n",
       "      <td>20</td>\n",
       "      <td>NO CONTROLS</td>\n",
       "      <td>NO CONTROLS</td>\n",
       "      <td>CLEAR</td>\n",
       "      <td>DAYLIGHT</td>\n",
       "      <td>FIXED OBJECT</td>\n",
       "      <td>OTHER</td>\n",
       "      <td>...</td>\n",
       "      <td>0.0</td>\n",
       "      <td>0.0</td>\n",
       "      <td>1.0</td>\n",
       "      <td>0.0</td>\n",
       "      <td>10</td>\n",
       "      <td>6</td>\n",
       "      <td>8</td>\n",
       "      <td>NaN</td>\n",
       "      <td>NaN</td>\n",
       "      <td>NaN</td>\n",
       "    </tr>\n",
       "    <tr>\n",
       "      <th>...</th>\n",
       "      <td>...</td>\n",
       "      <td>...</td>\n",
       "      <td>...</td>\n",
       "      <td>...</td>\n",
       "      <td>...</td>\n",
       "      <td>...</td>\n",
       "      <td>...</td>\n",
       "      <td>...</td>\n",
       "      <td>...</td>\n",
       "      <td>...</td>\n",
       "      <td>...</td>\n",
       "      <td>...</td>\n",
       "      <td>...</td>\n",
       "      <td>...</td>\n",
       "      <td>...</td>\n",
       "      <td>...</td>\n",
       "      <td>...</td>\n",
       "      <td>...</td>\n",
       "      <td>...</td>\n",
       "      <td>...</td>\n",
       "      <td>...</td>\n",
       "    </tr>\n",
       "    <tr>\n",
       "      <th>783694</th>\n",
       "      <td>f2c0204e5392ff379e5804ad25fad66304949d517327c6...</td>\n",
       "      <td>NaN</td>\n",
       "      <td>10/18/2020 12:03:00 AM</td>\n",
       "      <td>30</td>\n",
       "      <td>NO CONTROLS</td>\n",
       "      <td>NO CONTROLS</td>\n",
       "      <td>CLEAR</td>\n",
       "      <td>DARKNESS, LIGHTED ROAD</td>\n",
       "      <td>SIDESWIPE SAME DIRECTION</td>\n",
       "      <td>NOT DIVIDED</td>\n",
       "      <td>...</td>\n",
       "      <td>0.0</td>\n",
       "      <td>0.0</td>\n",
       "      <td>4.0</td>\n",
       "      <td>0.0</td>\n",
       "      <td>0</td>\n",
       "      <td>1</td>\n",
       "      <td>10</td>\n",
       "      <td>41.776184</td>\n",
       "      <td>-87.703219</td>\n",
       "      <td>POINT (-87.703218946422 41.776183637489)</td>\n",
       "    </tr>\n",
       "    <tr>\n",
       "      <th>783695</th>\n",
       "      <td>5ee5d998db696abf1c85925f71d82015adb33f3b2cdad1...</td>\n",
       "      <td>NaN</td>\n",
       "      <td>06/30/2023 09:37:00 PM</td>\n",
       "      <td>30</td>\n",
       "      <td>NO CONTROLS</td>\n",
       "      <td>NO CONTROLS</td>\n",
       "      <td>CLEAR</td>\n",
       "      <td>DARKNESS, LIGHTED ROAD</td>\n",
       "      <td>PARKED MOTOR VEHICLE</td>\n",
       "      <td>DIVIDED - W/MEDIAN (NOT RAISED)</td>\n",
       "      <td>...</td>\n",
       "      <td>0.0</td>\n",
       "      <td>0.0</td>\n",
       "      <td>0.0</td>\n",
       "      <td>0.0</td>\n",
       "      <td>21</td>\n",
       "      <td>6</td>\n",
       "      <td>6</td>\n",
       "      <td>41.756217</td>\n",
       "      <td>-87.641596</td>\n",
       "      <td>POINT (-87.641596011467 41.756217389831)</td>\n",
       "    </tr>\n",
       "    <tr>\n",
       "      <th>783696</th>\n",
       "      <td>cb0ca76762ca65feacb1f6513312f96f2a05629bd8a866...</td>\n",
       "      <td>NaN</td>\n",
       "      <td>06/01/2020 03:23:00 PM</td>\n",
       "      <td>30</td>\n",
       "      <td>NO CONTROLS</td>\n",
       "      <td>NO CONTROLS</td>\n",
       "      <td>CLEAR</td>\n",
       "      <td>DAYLIGHT</td>\n",
       "      <td>PEDESTRIAN</td>\n",
       "      <td>T-INTERSECTION</td>\n",
       "      <td>...</td>\n",
       "      <td>1.0</td>\n",
       "      <td>0.0</td>\n",
       "      <td>1.0</td>\n",
       "      <td>0.0</td>\n",
       "      <td>15</td>\n",
       "      <td>2</td>\n",
       "      <td>6</td>\n",
       "      <td>41.808860</td>\n",
       "      <td>-87.606403</td>\n",
       "      <td>POINT (-87.60640264079 41.808860140425)</td>\n",
       "    </tr>\n",
       "    <tr>\n",
       "      <th>783697</th>\n",
       "      <td>cea9e897c768f47b97c73685c1a2b3fdcdcd8809a0517a...</td>\n",
       "      <td>NaN</td>\n",
       "      <td>07/05/2019 03:50:00 AM</td>\n",
       "      <td>30</td>\n",
       "      <td>NO CONTROLS</td>\n",
       "      <td>NO CONTROLS</td>\n",
       "      <td>CLEAR</td>\n",
       "      <td>DAYLIGHT</td>\n",
       "      <td>REAR TO FRONT</td>\n",
       "      <td>PARKING LOT</td>\n",
       "      <td>...</td>\n",
       "      <td>0.0</td>\n",
       "      <td>0.0</td>\n",
       "      <td>2.0</td>\n",
       "      <td>0.0</td>\n",
       "      <td>3</td>\n",
       "      <td>6</td>\n",
       "      <td>7</td>\n",
       "      <td>41.787127</td>\n",
       "      <td>-87.645488</td>\n",
       "      <td>POINT (-87.645487943954 41.787127441561)</td>\n",
       "    </tr>\n",
       "    <tr>\n",
       "      <th>783698</th>\n",
       "      <td>fb93c3183712074555fc2062c807c10dc6e25be439705b...</td>\n",
       "      <td>NaN</td>\n",
       "      <td>05/28/2020 12:12:00 AM</td>\n",
       "      <td>30</td>\n",
       "      <td>STOP SIGN/FLASHER</td>\n",
       "      <td>FUNCTIONING PROPERLY</td>\n",
       "      <td>RAIN</td>\n",
       "      <td>DARKNESS, LIGHTED ROAD</td>\n",
       "      <td>PARKED MOTOR VEHICLE</td>\n",
       "      <td>NOT DIVIDED</td>\n",
       "      <td>...</td>\n",
       "      <td>0.0</td>\n",
       "      <td>0.0</td>\n",
       "      <td>1.0</td>\n",
       "      <td>0.0</td>\n",
       "      <td>0</td>\n",
       "      <td>5</td>\n",
       "      <td>5</td>\n",
       "      <td>41.920583</td>\n",
       "      <td>-87.737606</td>\n",
       "      <td>POINT (-87.737605858165 41.920582618046)</td>\n",
       "    </tr>\n",
       "  </tbody>\n",
       "</table>\n",
       "<p>783699 rows × 48 columns</p>\n",
       "</div>"
      ],
      "text/plain": [
       "                                          CRASH_RECORD_ID CRASH_DATE_EST_I  \\\n",
       "0       6c1659069e9c6285a650e70d6f9b574ed5f64c12888479...              NaN   \n",
       "1       5f54a59fcb087b12ae5b1acff96a3caf4f2d37e79f8db4...              NaN   \n",
       "2       61fcb8c1eb522a6469b460e2134df3d15f82e81fd93e9c...              NaN   \n",
       "3       004cd14d0303a9163aad69a2d7f341b7da2a8572b2ab33...              NaN   \n",
       "4       a1d5f0ea90897745365a4cbb06cc60329a120d89753fac...              NaN   \n",
       "...                                                   ...              ...   \n",
       "783694  f2c0204e5392ff379e5804ad25fad66304949d517327c6...              NaN   \n",
       "783695  5ee5d998db696abf1c85925f71d82015adb33f3b2cdad1...              NaN   \n",
       "783696  cb0ca76762ca65feacb1f6513312f96f2a05629bd8a866...              NaN   \n",
       "783697  cea9e897c768f47b97c73685c1a2b3fdcdcd8809a0517a...              NaN   \n",
       "783698  fb93c3183712074555fc2062c807c10dc6e25be439705b...              NaN   \n",
       "\n",
       "                    CRASH_DATE  POSTED_SPEED_LIMIT TRAFFIC_CONTROL_DEVICE  \\\n",
       "0       08/18/2023 12:50:00 PM                  15                  OTHER   \n",
       "1       07/29/2023 02:45:00 PM                  30         TRAFFIC SIGNAL   \n",
       "2       08/18/2023 05:58:00 PM                  30            NO CONTROLS   \n",
       "3       11/26/2019 08:38:00 AM                  25            NO CONTROLS   \n",
       "4       08/18/2023 10:45:00 AM                  20            NO CONTROLS   \n",
       "...                        ...                 ...                    ...   \n",
       "783694  10/18/2020 12:03:00 AM                  30            NO CONTROLS   \n",
       "783695  06/30/2023 09:37:00 PM                  30            NO CONTROLS   \n",
       "783696  06/01/2020 03:23:00 PM                  30            NO CONTROLS   \n",
       "783697  07/05/2019 03:50:00 AM                  30            NO CONTROLS   \n",
       "783698  05/28/2020 12:12:00 AM                  30      STOP SIGN/FLASHER   \n",
       "\n",
       "            DEVICE_CONDITION WEATHER_CONDITION      LIGHTING_CONDITION  \\\n",
       "0       FUNCTIONING PROPERLY             CLEAR                DAYLIGHT   \n",
       "1       FUNCTIONING PROPERLY             CLEAR                DAYLIGHT   \n",
       "2                NO CONTROLS             CLEAR                DAYLIGHT   \n",
       "3                NO CONTROLS             CLEAR                DAYLIGHT   \n",
       "4                NO CONTROLS             CLEAR                DAYLIGHT   \n",
       "...                      ...               ...                     ...   \n",
       "783694           NO CONTROLS             CLEAR  DARKNESS, LIGHTED ROAD   \n",
       "783695           NO CONTROLS             CLEAR  DARKNESS, LIGHTED ROAD   \n",
       "783696           NO CONTROLS             CLEAR                DAYLIGHT   \n",
       "783697           NO CONTROLS             CLEAR                DAYLIGHT   \n",
       "783698  FUNCTIONING PROPERLY              RAIN  DARKNESS, LIGHTED ROAD   \n",
       "\n",
       "                FIRST_CRASH_TYPE                  TRAFFICWAY_TYPE  ...  \\\n",
       "0                       REAR END                            OTHER  ...   \n",
       "1           PARKED MOTOR VEHICLE  DIVIDED - W/MEDIAN (NOT RAISED)  ...   \n",
       "2                   PEDALCYCLIST                      NOT DIVIDED  ...   \n",
       "3                     PEDESTRIAN                          ONE-WAY  ...   \n",
       "4                   FIXED OBJECT                            OTHER  ...   \n",
       "...                          ...                              ...  ...   \n",
       "783694  SIDESWIPE SAME DIRECTION                      NOT DIVIDED  ...   \n",
       "783695      PARKED MOTOR VEHICLE  DIVIDED - W/MEDIAN (NOT RAISED)  ...   \n",
       "783696                PEDESTRIAN                   T-INTERSECTION  ...   \n",
       "783697             REAR TO FRONT                      PARKING LOT  ...   \n",
       "783698      PARKED MOTOR VEHICLE                      NOT DIVIDED  ...   \n",
       "\n",
       "        INJURIES_NON_INCAPACITATING INJURIES_REPORTED_NOT_EVIDENT  \\\n",
       "0                               1.0                           0.0   \n",
       "1                               0.0                           0.0   \n",
       "2                               1.0                           0.0   \n",
       "3                               0.0                           0.0   \n",
       "4                               0.0                           0.0   \n",
       "...                             ...                           ...   \n",
       "783694                          0.0                           0.0   \n",
       "783695                          0.0                           0.0   \n",
       "783696                          1.0                           0.0   \n",
       "783697                          0.0                           0.0   \n",
       "783698                          0.0                           0.0   \n",
       "\n",
       "       INJURIES_NO_INDICATION INJURIES_UNKNOWN CRASH_HOUR CRASH_DAY_OF_WEEK  \\\n",
       "0                         1.0              0.0         12                 6   \n",
       "1                         1.0              0.0         14                 7   \n",
       "2                         1.0              0.0         17                 6   \n",
       "3                         1.0              0.0          8                 3   \n",
       "4                         1.0              0.0         10                 6   \n",
       "...                       ...              ...        ...               ...   \n",
       "783694                    4.0              0.0          0                 1   \n",
       "783695                    0.0              0.0         21                 6   \n",
       "783696                    1.0              0.0         15                 2   \n",
       "783697                    2.0              0.0          3                 6   \n",
       "783698                    1.0              0.0          0                 5   \n",
       "\n",
       "       CRASH_MONTH   LATITUDE  LONGITUDE  \\\n",
       "0                8        NaN        NaN   \n",
       "1                7  41.854120 -87.665902   \n",
       "2                8  41.942976 -87.761883   \n",
       "3               11        NaN        NaN   \n",
       "4                8        NaN        NaN   \n",
       "...            ...        ...        ...   \n",
       "783694          10  41.776184 -87.703219   \n",
       "783695           6  41.756217 -87.641596   \n",
       "783696           6  41.808860 -87.606403   \n",
       "783697           7  41.787127 -87.645488   \n",
       "783698           5  41.920583 -87.737606   \n",
       "\n",
       "                                        LOCATION  \n",
       "0                                            NaN  \n",
       "1       POINT (-87.665902342962 41.854120262952)  \n",
       "2       POINT (-87.761883496974 41.942975745006)  \n",
       "3                                            NaN  \n",
       "4                                            NaN  \n",
       "...                                          ...  \n",
       "783694  POINT (-87.703218946422 41.776183637489)  \n",
       "783695  POINT (-87.641596011467 41.756217389831)  \n",
       "783696   POINT (-87.60640264079 41.808860140425)  \n",
       "783697  POINT (-87.645487943954 41.787127441561)  \n",
       "783698  POINT (-87.737605858165 41.920582618046)  \n",
       "\n",
       "[783699 rows x 48 columns]"
      ]
     },
     "execution_count": 1,
     "metadata": {},
     "output_type": "execute_result"
    }
   ],
   "source": [
    "import pandas as pd\n",
    "import plotly.express as px\n",
    "import matplotlib.pyplot as plt\n",
    "import seaborn as sns\n",
    "import folium\n",
    "from folium.plugins import MarkerCluster\n",
    "\n",
    "df = pd.read_csv('Traffic_Crashes.csv')\n",
    "df"
   ]
  },
  {
   "cell_type": "code",
   "execution_count": 3,
   "metadata": {},
   "outputs": [
    {
     "name": "stdout",
     "output_type": "stream",
     "text": [
      "<class 'pandas.core.frame.DataFrame'>\n",
      "RangeIndex: 783699 entries, 0 to 783698\n",
      "Data columns (total 48 columns):\n",
      " #   Column                         Non-Null Count   Dtype  \n",
      "---  ------                         --------------   -----  \n",
      " 0   CRASH_RECORD_ID                783699 non-null  object \n",
      " 1   CRASH_DATE_EST_I               58847 non-null   object \n",
      " 2   CRASH_DATE                     783699 non-null  object \n",
      " 3   POSTED_SPEED_LIMIT             783699 non-null  int64  \n",
      " 4   TRAFFIC_CONTROL_DEVICE         783699 non-null  object \n",
      " 5   DEVICE_CONDITION               783699 non-null  object \n",
      " 6   WEATHER_CONDITION              783699 non-null  object \n",
      " 7   LIGHTING_CONDITION             783699 non-null  object \n",
      " 8   FIRST_CRASH_TYPE               783699 non-null  object \n",
      " 9   TRAFFICWAY_TYPE                783699 non-null  object \n",
      " 10  LANE_CNT                       199006 non-null  float64\n",
      " 11  ALIGNMENT                      783699 non-null  object \n",
      " 12  ROADWAY_SURFACE_COND           783699 non-null  object \n",
      " 13  ROAD_DEFECT                    783699 non-null  object \n",
      " 14  REPORT_TYPE                    760900 non-null  object \n",
      " 15  CRASH_TYPE                     783699 non-null  object \n",
      " 16  INTERSECTION_RELATED_I         179515 non-null  object \n",
      " 17  NOT_RIGHT_OF_WAY_I             36270 non-null   object \n",
      " 18  HIT_AND_RUN_I                  244880 non-null  object \n",
      " 19  DAMAGE                         783699 non-null  object \n",
      " 20  DATE_POLICE_NOTIFIED           783699 non-null  object \n",
      " 21  PRIM_CONTRIBUTORY_CAUSE        783699 non-null  object \n",
      " 22  SEC_CONTRIBUTORY_CAUSE         783699 non-null  object \n",
      " 23  STREET_NO                      783699 non-null  int64  \n",
      " 24  STREET_DIRECTION               783695 non-null  object \n",
      " 25  STREET_NAME                    783698 non-null  object \n",
      " 26  BEAT_OF_OCCURRENCE             783694 non-null  float64\n",
      " 27  PHOTOS_TAKEN_I                 10191 non-null   object \n",
      " 28  STATEMENTS_TAKEN_I             17222 non-null   object \n",
      " 29  DOORING_I                      2435 non-null    object \n",
      " 30  WORK_ZONE_I                    4556 non-null    object \n",
      " 31  WORK_ZONE_TYPE                 3545 non-null    object \n",
      " 32  WORKERS_PRESENT_I              1163 non-null    object \n",
      " 33  NUM_UNITS                      783699 non-null  int64  \n",
      " 34  MOST_SEVERE_INJURY             781972 non-null  object \n",
      " 35  INJURIES_TOTAL                 781983 non-null  float64\n",
      " 36  INJURIES_FATAL                 781983 non-null  float64\n",
      " 37  INJURIES_INCAPACITATING        781983 non-null  float64\n",
      " 38  INJURIES_NON_INCAPACITATING    781983 non-null  float64\n",
      " 39  INJURIES_REPORTED_NOT_EVIDENT  781983 non-null  float64\n",
      " 40  INJURIES_NO_INDICATION         781983 non-null  float64\n",
      " 41  INJURIES_UNKNOWN               781983 non-null  float64\n",
      " 42  CRASH_HOUR                     783699 non-null  int64  \n",
      " 43  CRASH_DAY_OF_WEEK              783699 non-null  int64  \n",
      " 44  CRASH_MONTH                    783699 non-null  int64  \n",
      " 45  LATITUDE                       778423 non-null  float64\n",
      " 46  LONGITUDE                      778423 non-null  float64\n",
      " 47  LOCATION                       778423 non-null  object \n",
      "dtypes: float64(11), int64(6), object(31)\n",
      "memory usage: 287.0+ MB\n"
     ]
    }
   ],
   "source": [
    "df.info()"
   ]
  },
  {
   "cell_type": "code",
   "execution_count": 4,
   "metadata": {},
   "outputs": [],
   "source": [
    "df['CRASH_DATE'] = pd.to_datetime(df['CRASH_DATE'])"
   ]
  },
  {
   "cell_type": "code",
   "execution_count": 5,
   "metadata": {},
   "outputs": [
    {
     "data": {
      "text/html": [
       "<div>\n",
       "<style scoped>\n",
       "    .dataframe tbody tr th:only-of-type {\n",
       "        vertical-align: middle;\n",
       "    }\n",
       "\n",
       "    .dataframe tbody tr th {\n",
       "        vertical-align: top;\n",
       "    }\n",
       "\n",
       "    .dataframe thead th {\n",
       "        text-align: right;\n",
       "    }\n",
       "</style>\n",
       "<table border=\"1\" class=\"dataframe\">\n",
       "  <thead>\n",
       "    <tr style=\"text-align: right;\">\n",
       "      <th></th>\n",
       "      <th>CRASH_DATE</th>\n",
       "      <th>POSTED_SPEED_LIMIT</th>\n",
       "      <th>LANE_CNT</th>\n",
       "      <th>STREET_NO</th>\n",
       "      <th>BEAT_OF_OCCURRENCE</th>\n",
       "      <th>NUM_UNITS</th>\n",
       "      <th>INJURIES_TOTAL</th>\n",
       "      <th>INJURIES_FATAL</th>\n",
       "      <th>INJURIES_INCAPACITATING</th>\n",
       "      <th>INJURIES_NON_INCAPACITATING</th>\n",
       "      <th>INJURIES_REPORTED_NOT_EVIDENT</th>\n",
       "      <th>INJURIES_NO_INDICATION</th>\n",
       "      <th>INJURIES_UNKNOWN</th>\n",
       "      <th>CRASH_HOUR</th>\n",
       "      <th>CRASH_DAY_OF_WEEK</th>\n",
       "      <th>CRASH_MONTH</th>\n",
       "      <th>LATITUDE</th>\n",
       "      <th>LONGITUDE</th>\n",
       "    </tr>\n",
       "  </thead>\n",
       "  <tbody>\n",
       "    <tr>\n",
       "      <th>count</th>\n",
       "      <td>783699</td>\n",
       "      <td>783699.000000</td>\n",
       "      <td>1.990060e+05</td>\n",
       "      <td>783699.000000</td>\n",
       "      <td>783694.000000</td>\n",
       "      <td>783699.000000</td>\n",
       "      <td>781983.000000</td>\n",
       "      <td>781983.000000</td>\n",
       "      <td>781983.000000</td>\n",
       "      <td>781983.000000</td>\n",
       "      <td>781983.000000</td>\n",
       "      <td>781983.000000</td>\n",
       "      <td>781983.0</td>\n",
       "      <td>783699.000000</td>\n",
       "      <td>783699.000000</td>\n",
       "      <td>783699.000000</td>\n",
       "      <td>778423.000000</td>\n",
       "      <td>778423.000000</td>\n",
       "    </tr>\n",
       "    <tr>\n",
       "      <th>mean</th>\n",
       "      <td>2020-04-01 22:07:43.490600704</td>\n",
       "      <td>28.397705</td>\n",
       "      <td>1.333032e+01</td>\n",
       "      <td>3686.356580</td>\n",
       "      <td>1242.746497</td>\n",
       "      <td>2.034901</td>\n",
       "      <td>0.189035</td>\n",
       "      <td>0.001192</td>\n",
       "      <td>0.020077</td>\n",
       "      <td>0.106834</td>\n",
       "      <td>0.060932</td>\n",
       "      <td>2.004563</td>\n",
       "      <td>0.0</td>\n",
       "      <td>13.205054</td>\n",
       "      <td>4.122895</td>\n",
       "      <td>6.722589</td>\n",
       "      <td>41.854746</td>\n",
       "      <td>-87.673351</td>\n",
       "    </tr>\n",
       "    <tr>\n",
       "      <th>min</th>\n",
       "      <td>2013-03-03 16:48:00</td>\n",
       "      <td>0.000000</td>\n",
       "      <td>0.000000e+00</td>\n",
       "      <td>0.000000</td>\n",
       "      <td>111.000000</td>\n",
       "      <td>1.000000</td>\n",
       "      <td>0.000000</td>\n",
       "      <td>0.000000</td>\n",
       "      <td>0.000000</td>\n",
       "      <td>0.000000</td>\n",
       "      <td>0.000000</td>\n",
       "      <td>0.000000</td>\n",
       "      <td>0.0</td>\n",
       "      <td>0.000000</td>\n",
       "      <td>1.000000</td>\n",
       "      <td>1.000000</td>\n",
       "      <td>0.000000</td>\n",
       "      <td>-87.936193</td>\n",
       "    </tr>\n",
       "    <tr>\n",
       "      <th>25%</th>\n",
       "      <td>2018-06-29 16:00:00</td>\n",
       "      <td>30.000000</td>\n",
       "      <td>2.000000e+00</td>\n",
       "      <td>1246.000000</td>\n",
       "      <td>714.000000</td>\n",
       "      <td>2.000000</td>\n",
       "      <td>0.000000</td>\n",
       "      <td>0.000000</td>\n",
       "      <td>0.000000</td>\n",
       "      <td>0.000000</td>\n",
       "      <td>0.000000</td>\n",
       "      <td>1.000000</td>\n",
       "      <td>0.0</td>\n",
       "      <td>9.000000</td>\n",
       "      <td>2.000000</td>\n",
       "      <td>4.000000</td>\n",
       "      <td>41.782425</td>\n",
       "      <td>-87.721679</td>\n",
       "    </tr>\n",
       "    <tr>\n",
       "      <th>50%</th>\n",
       "      <td>2020-02-28 16:38:00</td>\n",
       "      <td>30.000000</td>\n",
       "      <td>2.000000e+00</td>\n",
       "      <td>3200.000000</td>\n",
       "      <td>1211.000000</td>\n",
       "      <td>2.000000</td>\n",
       "      <td>0.000000</td>\n",
       "      <td>0.000000</td>\n",
       "      <td>0.000000</td>\n",
       "      <td>0.000000</td>\n",
       "      <td>0.000000</td>\n",
       "      <td>2.000000</td>\n",
       "      <td>0.0</td>\n",
       "      <td>14.000000</td>\n",
       "      <td>4.000000</td>\n",
       "      <td>7.000000</td>\n",
       "      <td>41.874739</td>\n",
       "      <td>-87.674056</td>\n",
       "    </tr>\n",
       "    <tr>\n",
       "      <th>75%</th>\n",
       "      <td>2022-02-15 13:09:30</td>\n",
       "      <td>30.000000</td>\n",
       "      <td>4.000000e+00</td>\n",
       "      <td>5600.000000</td>\n",
       "      <td>1822.000000</td>\n",
       "      <td>2.000000</td>\n",
       "      <td>0.000000</td>\n",
       "      <td>0.000000</td>\n",
       "      <td>0.000000</td>\n",
       "      <td>0.000000</td>\n",
       "      <td>0.000000</td>\n",
       "      <td>2.000000</td>\n",
       "      <td>0.0</td>\n",
       "      <td>17.000000</td>\n",
       "      <td>6.000000</td>\n",
       "      <td>10.000000</td>\n",
       "      <td>41.924287</td>\n",
       "      <td>-87.633300</td>\n",
       "    </tr>\n",
       "    <tr>\n",
       "      <th>max</th>\n",
       "      <td>2023-11-26 00:46:00</td>\n",
       "      <td>99.000000</td>\n",
       "      <td>1.191625e+06</td>\n",
       "      <td>451100.000000</td>\n",
       "      <td>6100.000000</td>\n",
       "      <td>18.000000</td>\n",
       "      <td>21.000000</td>\n",
       "      <td>4.000000</td>\n",
       "      <td>10.000000</td>\n",
       "      <td>21.000000</td>\n",
       "      <td>15.000000</td>\n",
       "      <td>61.000000</td>\n",
       "      <td>0.0</td>\n",
       "      <td>23.000000</td>\n",
       "      <td>7.000000</td>\n",
       "      <td>12.000000</td>\n",
       "      <td>42.022780</td>\n",
       "      <td>0.000000</td>\n",
       "    </tr>\n",
       "    <tr>\n",
       "      <th>std</th>\n",
       "      <td>NaN</td>\n",
       "      <td>6.189507</td>\n",
       "      <td>2.961623e+03</td>\n",
       "      <td>2888.002519</td>\n",
       "      <td>705.294092</td>\n",
       "      <td>0.452472</td>\n",
       "      <td>0.564962</td>\n",
       "      <td>0.037419</td>\n",
       "      <td>0.165933</td>\n",
       "      <td>0.421622</td>\n",
       "      <td>0.317665</td>\n",
       "      <td>1.159156</td>\n",
       "      <td>0.0</td>\n",
       "      <td>5.565968</td>\n",
       "      <td>1.980008</td>\n",
       "      <td>3.374363</td>\n",
       "      <td>0.339767</td>\n",
       "      <td>0.691009</td>\n",
       "    </tr>\n",
       "  </tbody>\n",
       "</table>\n",
       "</div>"
      ],
      "text/plain": [
       "                          CRASH_DATE  POSTED_SPEED_LIMIT      LANE_CNT  \\\n",
       "count                         783699       783699.000000  1.990060e+05   \n",
       "mean   2020-04-01 22:07:43.490600704           28.397705  1.333032e+01   \n",
       "min              2013-03-03 16:48:00            0.000000  0.000000e+00   \n",
       "25%              2018-06-29 16:00:00           30.000000  2.000000e+00   \n",
       "50%              2020-02-28 16:38:00           30.000000  2.000000e+00   \n",
       "75%              2022-02-15 13:09:30           30.000000  4.000000e+00   \n",
       "max              2023-11-26 00:46:00           99.000000  1.191625e+06   \n",
       "std                              NaN            6.189507  2.961623e+03   \n",
       "\n",
       "           STREET_NO  BEAT_OF_OCCURRENCE      NUM_UNITS  INJURIES_TOTAL  \\\n",
       "count  783699.000000       783694.000000  783699.000000   781983.000000   \n",
       "mean     3686.356580         1242.746497       2.034901        0.189035   \n",
       "min         0.000000          111.000000       1.000000        0.000000   \n",
       "25%      1246.000000          714.000000       2.000000        0.000000   \n",
       "50%      3200.000000         1211.000000       2.000000        0.000000   \n",
       "75%      5600.000000         1822.000000       2.000000        0.000000   \n",
       "max    451100.000000         6100.000000      18.000000       21.000000   \n",
       "std      2888.002519          705.294092       0.452472        0.564962   \n",
       "\n",
       "       INJURIES_FATAL  INJURIES_INCAPACITATING  INJURIES_NON_INCAPACITATING  \\\n",
       "count   781983.000000            781983.000000                781983.000000   \n",
       "mean         0.001192                 0.020077                     0.106834   \n",
       "min          0.000000                 0.000000                     0.000000   \n",
       "25%          0.000000                 0.000000                     0.000000   \n",
       "50%          0.000000                 0.000000                     0.000000   \n",
       "75%          0.000000                 0.000000                     0.000000   \n",
       "max          4.000000                10.000000                    21.000000   \n",
       "std          0.037419                 0.165933                     0.421622   \n",
       "\n",
       "       INJURIES_REPORTED_NOT_EVIDENT  INJURIES_NO_INDICATION  \\\n",
       "count                  781983.000000           781983.000000   \n",
       "mean                        0.060932                2.004563   \n",
       "min                         0.000000                0.000000   \n",
       "25%                         0.000000                1.000000   \n",
       "50%                         0.000000                2.000000   \n",
       "75%                         0.000000                2.000000   \n",
       "max                        15.000000               61.000000   \n",
       "std                         0.317665                1.159156   \n",
       "\n",
       "       INJURIES_UNKNOWN     CRASH_HOUR  CRASH_DAY_OF_WEEK    CRASH_MONTH  \\\n",
       "count          781983.0  783699.000000      783699.000000  783699.000000   \n",
       "mean                0.0      13.205054           4.122895       6.722589   \n",
       "min                 0.0       0.000000           1.000000       1.000000   \n",
       "25%                 0.0       9.000000           2.000000       4.000000   \n",
       "50%                 0.0      14.000000           4.000000       7.000000   \n",
       "75%                 0.0      17.000000           6.000000      10.000000   \n",
       "max                 0.0      23.000000           7.000000      12.000000   \n",
       "std                 0.0       5.565968           1.980008       3.374363   \n",
       "\n",
       "            LATITUDE      LONGITUDE  \n",
       "count  778423.000000  778423.000000  \n",
       "mean       41.854746     -87.673351  \n",
       "min         0.000000     -87.936193  \n",
       "25%        41.782425     -87.721679  \n",
       "50%        41.874739     -87.674056  \n",
       "75%        41.924287     -87.633300  \n",
       "max        42.022780       0.000000  \n",
       "std         0.339767       0.691009  "
      ]
     },
     "execution_count": 5,
     "metadata": {},
     "output_type": "execute_result"
    }
   ],
   "source": [
    "df.describe()"
   ]
  },
  {
   "cell_type": "code",
   "execution_count": 6,
   "metadata": {},
   "outputs": [
    {
     "data": {
      "text/plain": [
       "CRASH_RECORD_ID                       0\n",
       "CRASH_DATE_EST_I                 724852\n",
       "CRASH_DATE                            0\n",
       "POSTED_SPEED_LIMIT                    0\n",
       "TRAFFIC_CONTROL_DEVICE                0\n",
       "DEVICE_CONDITION                      0\n",
       "WEATHER_CONDITION                     0\n",
       "LIGHTING_CONDITION                    0\n",
       "FIRST_CRASH_TYPE                      0\n",
       "TRAFFICWAY_TYPE                       0\n",
       "LANE_CNT                         584693\n",
       "ALIGNMENT                             0\n",
       "ROADWAY_SURFACE_COND                  0\n",
       "ROAD_DEFECT                           0\n",
       "REPORT_TYPE                       22799\n",
       "CRASH_TYPE                            0\n",
       "INTERSECTION_RELATED_I           604184\n",
       "NOT_RIGHT_OF_WAY_I               747429\n",
       "HIT_AND_RUN_I                    538819\n",
       "DAMAGE                                0\n",
       "DATE_POLICE_NOTIFIED                  0\n",
       "PRIM_CONTRIBUTORY_CAUSE               0\n",
       "SEC_CONTRIBUTORY_CAUSE                0\n",
       "STREET_NO                             0\n",
       "STREET_DIRECTION                      4\n",
       "STREET_NAME                           1\n",
       "BEAT_OF_OCCURRENCE                    5\n",
       "PHOTOS_TAKEN_I                   773508\n",
       "STATEMENTS_TAKEN_I               766477\n",
       "DOORING_I                        781264\n",
       "WORK_ZONE_I                      779143\n",
       "WORK_ZONE_TYPE                   780154\n",
       "WORKERS_PRESENT_I                782536\n",
       "NUM_UNITS                             0\n",
       "MOST_SEVERE_INJURY                 1727\n",
       "INJURIES_TOTAL                     1716\n",
       "INJURIES_FATAL                     1716\n",
       "INJURIES_INCAPACITATING            1716\n",
       "INJURIES_NON_INCAPACITATING        1716\n",
       "INJURIES_REPORTED_NOT_EVIDENT      1716\n",
       "INJURIES_NO_INDICATION             1716\n",
       "INJURIES_UNKNOWN                   1716\n",
       "CRASH_HOUR                            0\n",
       "CRASH_DAY_OF_WEEK                     0\n",
       "CRASH_MONTH                           0\n",
       "LATITUDE                           5276\n",
       "LONGITUDE                          5276\n",
       "LOCATION                           5276\n",
       "dtype: int64"
      ]
     },
     "execution_count": 6,
     "metadata": {},
     "output_type": "execute_result"
    }
   ],
   "source": [
    "df.isnull().sum()"
   ]
  },
  {
   "cell_type": "code",
   "execution_count": 7,
   "metadata": {},
   "outputs": [],
   "source": [
    "# Set the threshold for null values\n",
    "threshold = 100000\n",
    "\n",
    "# Drop columns with null values exceeding the threshold\n",
    "df = df.dropna(axis=1, thresh=df.shape[0] - threshold)\n"
   ]
  },
  {
   "cell_type": "code",
   "execution_count": null,
   "metadata": {},
   "outputs": [],
   "source": [
    "df.columns"
   ]
  },
  {
   "cell_type": "code",
   "execution_count": 8,
   "metadata": {},
   "outputs": [
    {
     "name": "stderr",
     "output_type": "stream",
     "text": [
      "C:\\Users\\303\\AppData\\Local\\Temp\\ipykernel_3396\\4070474072.py:11: SettingWithCopyWarning: \n",
      "A value is trying to be set on a copy of a slice from a DataFrame\n",
      "\n",
      "See the caveats in the documentation: https://pandas.pydata.org/pandas-docs/stable/user_guide/indexing.html#returning-a-view-versus-a-copy\n",
      "  df.drop(columns=columns_to_drop, axis=1, inplace=True)\n"
     ]
    }
   ],
   "source": [
    "# List of columns to drop\n",
    "columns_to_drop = ['CRASH_RECORD_ID', 'ALIGNMENT', 'ROAD_DEFECT', 'REPORT_TYPE', 'DAMAGE', 'DATE_POLICE_NOTIFIED', 'SEC_CONTRIBUTORY_CAUSE', 'STREET_NO',\n",
    "       'STREET_DIRECTION', 'STREET_NAME', 'BEAT_OF_OCCURRENCE', 'NUM_UNITS',\n",
    "       'MOST_SEVERE_INJURY', 'INJURIES_TOTAL', 'INJURIES_FATAL',\n",
    "       'INJURIES_INCAPACITATING', 'INJURIES_NON_INCAPACITATING',\n",
    "       'INJURIES_REPORTED_NOT_EVIDENT', 'INJURIES_NO_INDICATION',\n",
    "       'INJURIES_UNKNOWN', 'CRASH_HOUR', 'CRASH_DAY_OF_WEEK', 'CRASH_MONTH', 'LOCATION'\n",
    "]\n",
    "\n",
    "# Drop the specified columns\n",
    "df.drop(columns=columns_to_drop, axis=1, inplace=True)"
   ]
  },
  {
   "cell_type": "code",
   "execution_count": 9,
   "metadata": {},
   "outputs": [
    {
     "data": {
      "text/plain": [
       "Index(['CRASH_DATE', 'POSTED_SPEED_LIMIT', 'TRAFFIC_CONTROL_DEVICE',\n",
       "       'DEVICE_CONDITION', 'WEATHER_CONDITION', 'LIGHTING_CONDITION',\n",
       "       'FIRST_CRASH_TYPE', 'TRAFFICWAY_TYPE', 'ROADWAY_SURFACE_COND',\n",
       "       'CRASH_TYPE', 'PRIM_CONTRIBUTORY_CAUSE', 'LATITUDE', 'LONGITUDE'],\n",
       "      dtype='object')"
      ]
     },
     "execution_count": 9,
     "metadata": {},
     "output_type": "execute_result"
    }
   ],
   "source": [
    "df.head()"
   ]
  },
  {
   "cell_type": "code",
   "execution_count": 10,
   "metadata": {},
   "outputs": [
    {
     "data": {
      "text/plain": [
       "CRASH_DATE                    0\n",
       "POSTED_SPEED_LIMIT            0\n",
       "TRAFFIC_CONTROL_DEVICE        0\n",
       "DEVICE_CONDITION              0\n",
       "WEATHER_CONDITION             0\n",
       "LIGHTING_CONDITION            0\n",
       "FIRST_CRASH_TYPE              0\n",
       "TRAFFICWAY_TYPE               0\n",
       "ROADWAY_SURFACE_COND          0\n",
       "CRASH_TYPE                    0\n",
       "PRIM_CONTRIBUTORY_CAUSE       0\n",
       "LATITUDE                   5276\n",
       "LONGITUDE                  5276\n",
       "dtype: int64"
      ]
     },
     "execution_count": 10,
     "metadata": {},
     "output_type": "execute_result"
    }
   ],
   "source": [
    "df.isnull().sum()"
   ]
  },
  {
   "cell_type": "code",
   "execution_count": 11,
   "metadata": {},
   "outputs": [
    {
     "name": "stderr",
     "output_type": "stream",
     "text": [
      "C:\\Users\\303\\AppData\\Local\\Temp\\ipykernel_3396\\1379821321.py:1: SettingWithCopyWarning: \n",
      "A value is trying to be set on a copy of a slice from a DataFrame\n",
      "\n",
      "See the caveats in the documentation: https://pandas.pydata.org/pandas-docs/stable/user_guide/indexing.html#returning-a-view-versus-a-copy\n",
      "  df.dropna(inplace=True)\n"
     ]
    }
   ],
   "source": [
    "df.dropna(inplace=True)"
   ]
  },
  {
   "cell_type": "code",
   "execution_count": 12,
   "metadata": {},
   "outputs": [],
   "source": [
    "df = df[df['CRASH_DATE'].dt.year >= 2018]"
   ]
  },
  {
   "cell_type": "code",
   "execution_count": 13,
   "metadata": {},
   "outputs": [
    {
     "data": {
      "image/png": "[encoded data removed]",
      "text/plain": [
       "<Figure size 2000x900 with 2 Axes>"
      ]
     },
     "metadata": {},
     "output_type": "display_data"
    }
   ],
   "source": [
    "# df['Year'] = df['CRASH_DATE'].dt.year\n",
    "year = df['CRASH_DATE'].dt.year.value_counts() \n",
    "\n",
    "years = df['CRASH_DATE'].dt.year.unique()\n",
    "num = year.values\n",
    "\n",
    "week = df['CRASH_DATE'].dt.dayofweek.value_counts()\n",
    "week\n",
    "weeks = df['CRASH_DATE'].dt.dayofweek.unique()\n",
    "numw = week.values\n",
    "\n",
    "plt.figure(figsize = (20,9),facecolor='White')\n",
    "\n",
    "plt.subplot(1, 2, 1)\n",
    "\n",
    "sns.barplot(x = years, y = num, color=\"red\")\n",
    "plt.ylabel(\"Number of Accidents\")\n",
    "plt.xlabel(\"Years\")\n",
    "\n",
    "plt.title(\"Number of Traffic Acciddetns By years\")\n",
    "\n",
    "plt.subplot(1, 2, 2)\n",
    "\n",
    "plt.barh(weeks,numw,color=\"fuchsia\")\n",
    "plt.title(\"Number of Traffic Acciddetns By Weekdays\")\n",
    "plt.xlabel(\"Number of Accidents\")\n",
    "plt.ylabel(\"Weekdays\")\n",
    "plt.show()"
   ]
  },
  {
   "cell_type": "code",
   "execution_count": 41,
   "metadata": {},
   "outputs": [
    {
     "data": {
      "image/png": "[encoded data removed]",
      "text/plain": [
       "<Figure size 1200x600 with 1 Axes>"
      ]
     },
     "metadata": {},
     "output_type": "display_data"
    }
   ],
   "source": [
    "# Count the number of crashes by hour\n",
    "crashes_by_hour = df['Hour'].value_counts().sort_index()\n",
    "\n",
    "# Plot the number of crashes by hour\n",
    "plt.figure(figsize=(12, 6))\n",
    "crashes_by_hour.plot(kind='bar', color='skyblue')\n",
    "plt.title('Number of Crashes by Hour')\n",
    "plt.xlabel('Hour of Day')\n",
    "plt.ylabel('Number of Crashes')\n",
    "plt.show()"
   ]
  },
  {
   "cell_type": "code",
   "execution_count": null,
   "metadata": {},
   "outputs": [
    {
     "name": "stderr",
     "output_type": "stream",
     "text": [
      "C:\\Users\\303\\AppData\\Local\\Temp\\ipykernel_11572\\2614405542.py:5: SettingWithCopyWarning:\n",
      "\n",
      "\n",
      "A value is trying to be set on a copy of a slice from a DataFrame.\n",
      "Try using .loc[row_indexer,col_indexer] = value instead\n",
      "\n",
      "See the caveats in the documentation: https://pandas.pydata.org/pandas-docs/stable/user_guide/indexing.html#returning-a-view-versus-a-copy\n",
      "\n",
      "C:\\Users\\303\\AppData\\Local\\Temp\\ipykernel_11572\\2614405542.py:6: SettingWithCopyWarning:\n",
      "\n",
      "\n",
      "A value is trying to be set on a copy of a slice from a DataFrame.\n",
      "Try using .loc[row_indexer,col_indexer] = value instead\n",
      "\n",
      "See the caveats in the documentation: https://pandas.pydata.org/pandas-docs/stable/user_guide/indexing.html#returning-a-view-versus-a-copy\n",
      "\n"
     ]
    }
   ],
   "source": [
    "# Assuming 'LATITUDE' and 'LONGITUDE' are the columns containing location information\n",
    "df['LATITUDE'] = pd.to_numeric(df['LATITUDE'], errors='coerce')\n",
    "df['LONGITUDE'] = pd.to_numeric(df['LONGITUDE'], errors='coerce')\n",
    "\n",
    "# Create a folium map centered around the mean latitude and longitude\n",
    "map_center = [df['LATITUDE'].mean(), df['LONGITUDE'].mean()]\n",
    "crash_map = folium.Map(location=map_center, zoom_start=10)\n",
    "\n",
    "# Create a MarkerCluster to group markers\n",
    "marker_cluster = MarkerCluster().add_to(crash_map)\n",
    "\n",
    "# Add markers for each crash location to the cluster\n",
    "for index, row in df.iterrows():\n",
    "    folium.Marker([row['LATITUDE'], row['LONGITUDE']]).add_to(marker_cluster)\n"
   ]
  },
  {
   "cell_type": "code",
   "execution_count": 22,
   "metadata": {},
   "outputs": [
    {
     "data": {
      "text/plain": [
       "array(['FAILING TO REDUCE SPEED TO AVOID CRASH', 'UNABLE TO DETERMINE',\n",
       "       'IMPROPER BACKING', 'DRIVING SKILLS/KNOWLEDGE/EXPERIENCE',\n",
       "       'IMPROPER TURNING/NO SIGNAL', 'IMPROPER LANE USAGE',\n",
       "       'IMPROPER OVERTAKING/PASSING', 'NOT APPLICABLE',\n",
       "       'FAILING TO YIELD RIGHT-OF-WAY', 'WEATHER',\n",
       "       'DISREGARDING OTHER TRAFFIC SIGNS',\n",
       "       'DRIVING ON WRONG SIDE/WRONG WAY', 'FOLLOWING TOO CLOSELY',\n",
       "       'DISTRACTION - FROM INSIDE VEHICLE', 'ANIMAL', 'TEXTING',\n",
       "       'VISION OBSCURED (SIGNS, TREE LIMBS, BUILDINGS, ETC.)',\n",
       "       'DISREGARDING TRAFFIC SIGNALS', 'EQUIPMENT - VEHICLE CONDITION',\n",
       "       'DISREGARDING STOP SIGN',\n",
       "       'OPERATING VEHICLE IN ERRATIC, RECKLESS, CARELESS, NEGLIGENT OR AGGRESSIVE MANNER',\n",
       "       'ROAD CONSTRUCTION/MAINTENANCE',\n",
       "       'DISTRACTION - FROM OUTSIDE VEHICLE',\n",
       "       'EXCEEDING SAFE SPEED FOR CONDITIONS',\n",
       "       'PHYSICAL CONDITION OF DRIVER', 'DISREGARDING YIELD SIGN',\n",
       "       'ROAD ENGINEERING/SURFACE/MARKING DEFECTS', 'TURNING RIGHT ON RED',\n",
       "       'EXCEEDING AUTHORIZED SPEED LIMIT',\n",
       "       'UNDER THE INFLUENCE OF ALCOHOL/DRUGS (USE WHEN ARREST IS EFFECTED)',\n",
       "       'DISREGARDING ROAD MARKINGS',\n",
       "       'EVASIVE ACTION DUE TO ANIMAL, OBJECT, NONMOTORIST',\n",
       "       'HAD BEEN DRINKING (USE WHEN ARREST IS NOT MADE)',\n",
       "       'DISTRACTION - OTHER ELECTRONIC DEVICE (NAVIGATION DEVICE, DVD PLAYER, ETC.)',\n",
       "       'OBSTRUCTED CROSSWALKS', 'CELL PHONE USE OTHER THAN TEXTING',\n",
       "       'RELATED TO BUS STOP', 'BICYCLE ADVANCING LEGALLY ON RED LIGHT',\n",
       "       'PASSING STOPPED SCHOOL BUS',\n",
       "       'MOTORCYCLE ADVANCING LEGALLY ON RED LIGHT'], dtype=object)"
      ]
     },
     "execution_count": 22,
     "metadata": {},
     "output_type": "execute_result"
    }
   ],
   "source": [
    "df['PRIM_CONTRIBUTORY_CAUSE'].unique()"
   ]
  },
  {
   "cell_type": "code",
   "execution_count": 23,
   "metadata": {},
   "outputs": [
    {
     "data": {
      "image/png": "[encoded data removed]",
      "text/plain": [
       "<Figure size 1500x1500 with 1 Axes>"
      ]
     },
     "metadata": {},
     "output_type": "display_data"
    }
   ],
   "source": [
    "# Display a plot showing the primary contributing cause of reported crashes.\n",
    "plt.figure(figsize=(15, 15))\n",
    "sns.countplot(data=df,  y='PRIM_CONTRIBUTORY_CAUSE', order = df['PRIM_CONTRIBUTORY_CAUSE'].value_counts().index)\n",
    "plt.title('Primary Contributing Cause of Crashes in Chicago ', y=1.01, fontsize=14)\n",
    "plt.xlabel('Number of Crashes', fontsize=13, labelpad=15)\n",
    "plt.ylabel('Primary Contributing Cause', fontsize=13, labelpad=15)\n",
    "plt.show();"
   ]
  },
  {
   "cell_type": "code",
   "execution_count": 33,
   "metadata": {},
   "outputs": [
    {
     "data": {
      "application/vnd.plotly.v1+json": {
       "config": {
        "plotlyServerURL": "https://plot.ly"
       },
       "data": [
        {
         "domain": {
          "x": [
           0,
           1
          ],
          "y": [
           0,
           1
          ]
         },
         "hovertemplate": "WEATHER_CONDITION=%{label}<br>value=%{value}<extra></extra>",
         "labels": [
          "CLEAR",
          "RAIN",
          "UNKNOWN",
          "SNOW",
          "CLOUDY/OVERCAST",
          "OTHER",
          "FREEZING RAIN/DRIZZLE",
          "FOG/SMOKE/HAZE",
          "SLEET/HAIL",
          "BLOWING SNOW",
          "SEVERE CROSS WIND GATE",
          "BLOWING SAND, SOIL, DIRT"
         ],
         "legendgroup": "",
         "name": "",
         "showlegend": true,
         "type": "pie",
         "values": [
          503486,
          54333,
          35675,
          22818,
          19092,
          2043,
          1394,
          936,
          795,
          383,
          107,
          7
         ]
        }
       ],
       "layout": {
        "legend": {
         "tracegroupgap": 0
        },
        "template": {
         "data": {
          "bar": [
           {
            "error_x": {
             "color": "#2a3f5f"
            },
            "error_y": {
             "color": "#2a3f5f"
            },
            "marker": {
             "line": {
              "color": "#E5ECF6",
              "width": 0.5
             },
             "pattern": {
              "fillmode": "overlay",
              "size": 10,
              "solidity": 0.2
             }
            },
            "type": "bar"
           }
          ],
          "barpolar": [
           {
            "marker": {
             "line": {
              "color": "#E5ECF6",
              "width": 0.5
             },
             "pattern": {
              "fillmode": "overlay",
              "size": 10,
              "solidity": 0.2
             }
            },
            "type": "barpolar"
           }
          ],
          "carpet": [
           {
            "aaxis": {
             "endlinecolor": "#2a3f5f",
             "gridcolor": "white",
             "linecolor": "white",
             "minorgridcolor": "white",
             "startlinecolor": "#2a3f5f"
            },
            "baxis": {
             "endlinecolor": "#2a3f5f",
             "gridcolor": "white",
             "linecolor": "white",
             "minorgridcolor": "white",
             "startlinecolor": "#2a3f5f"
            },
            "type": "carpet"
           }
          ],
          "choropleth": [
           {
            "colorbar": {
             "outlinewidth": 0,
             "ticks": ""
            },
            "type": "choropleth"
           }
          ],
          "contour": [
           {
            "colorbar": {
             "outlinewidth": 0,
             "ticks": ""
            },
            "colorscale": [
             [
              0,
              "#0d0887"
             ],
             [
              0.1111111111111111,
              "#46039f"
             ],
             [
              0.2222222222222222,
              "#7201a8"
             ],
             [
              0.3333333333333333,
              "#9c179e"
             ],
             [
              0.4444444444444444,
              "#bd3786"
             ],
             [
              0.5555555555555556,
              "#d8576b"
             ],
             [
              0.6666666666666666,
              "#ed7953"
             ],
             [
              0.7777777777777778,
              "#fb9f3a"
             ],
             [
              0.8888888888888888,
              "#fdca26"
             ],
             [
              1,
              "#f0f921"
             ]
            ],
            "type": "contour"
           }
          ],
          "contourcarpet": [
           {
            "colorbar": {
             "outlinewidth": 0,
             "ticks": ""
            },
            "type": "contourcarpet"
           }
          ],
          "heatmap": [
           {
            "colorbar": {
             "outlinewidth": 0,
             "ticks": ""
            },
            "colorscale": [
             [
              0,
              "#0d0887"
             ],
             [
              0.1111111111111111,
              "#46039f"
             ],
             [
              0.2222222222222222,
              "#7201a8"
             ],
             [
              0.3333333333333333,
              "#9c179e"
             ],
             [
              0.4444444444444444,
              "#bd3786"
             ],
             [
              0.5555555555555556,
              "#d8576b"
             ],
             [
              0.6666666666666666,
              "#ed7953"
             ],
             [
              0.7777777777777778,
              "#fb9f3a"
             ],
             [
              0.8888888888888888,
              "#fdca26"
             ],
             [
              1,
              "#f0f921"
             ]
            ],
            "type": "heatmap"
           }
          ],
          "heatmapgl": [
           {
            "colorbar": {
             "outlinewidth": 0,
             "ticks": ""
            },
            "colorscale": [
             [
              0,
              "#0d0887"
             ],
             [
              0.1111111111111111,
              "#46039f"
             ],
             [
              0.2222222222222222,
              "#7201a8"
             ],
             [
              0.3333333333333333,
              "#9c179e"
             ],
             [
              0.4444444444444444,
              "#bd3786"
             ],
             [
              0.5555555555555556,
              "#d8576b"
             ],
             [
              0.6666666666666666,
              "#ed7953"
             ],
             [
              0.7777777777777778,
              "#fb9f3a"
             ],
             [
              0.8888888888888888,
              "#fdca26"
             ],
             [
              1,
              "#f0f921"
             ]
            ],
            "type": "heatmapgl"
           }
          ],
          "histogram": [
           {
            "marker": {
             "pattern": {
              "fillmode": "overlay",
              "size": 10,
              "solidity": 0.2
             }
            },
            "type": "histogram"
           }
          ],
          "histogram2d": [
           {
            "colorbar": {
             "outlinewidth": 0,
             "ticks": ""
            },
            "colorscale": [
             [
              0,
              "#0d0887"
             ],
             [
              0.1111111111111111,
              "#46039f"
             ],
             [
              0.2222222222222222,
              "#7201a8"
             ],
             [
              0.3333333333333333,
              "#9c179e"
             ],
             [
              0.4444444444444444,
              "#bd3786"
             ],
             [
              0.5555555555555556,
              "#d8576b"
             ],
             [
              0.6666666666666666,
              "#ed7953"
             ],
             [
              0.7777777777777778,
              "#fb9f3a"
             ],
             [
              0.8888888888888888,
              "#fdca26"
             ],
             [
              1,
              "#f0f921"
             ]
            ],
            "type": "histogram2d"
           }
          ],
          "histogram2dcontour": [
           {
            "colorbar": {
             "outlinewidth": 0,
             "ticks": ""
            },
            "colorscale": [
             [
              0,
              "#0d0887"
             ],
             [
              0.1111111111111111,
              "#46039f"
             ],
             [
              0.2222222222222222,
              "#7201a8"
             ],
             [
              0.3333333333333333,
              "#9c179e"
             ],
             [
              0.4444444444444444,
              "#bd3786"
             ],
             [
              0.5555555555555556,
              "#d8576b"
             ],
             [
              0.6666666666666666,
              "#ed7953"
             ],
             [
              0.7777777777777778,
              "#fb9f3a"
             ],
             [
              0.8888888888888888,
              "#fdca26"
             ],
             [
              1,
              "#f0f921"
             ]
            ],
            "type": "histogram2dcontour"
           }
          ],
          "mesh3d": [
           {
            "colorbar": {
             "outlinewidth": 0,
             "ticks": ""
            },
            "type": "mesh3d"
           }
          ],
          "parcoords": [
           {
            "line": {
             "colorbar": {
              "outlinewidth": 0,
              "ticks": ""
             }
            },
            "type": "parcoords"
           }
          ],
          "pie": [
           {
            "automargin": true,
            "type": "pie"
           }
          ],
          "scatter": [
           {
            "fillpattern": {
             "fillmode": "overlay",
             "size": 10,
             "solidity": 0.2
            },
            "type": "scatter"
           }
          ],
          "scatter3d": [
           {
            "line": {
             "colorbar": {
              "outlinewidth": 0,
              "ticks": ""
             }
            },
            "marker": {
             "colorbar": {
              "outlinewidth": 0,
              "ticks": ""
             }
            },
            "type": "scatter3d"
           }
          ],
          "scattercarpet": [
           {
            "marker": {
             "colorbar": {
              "outlinewidth": 0,
              "ticks": ""
             }
            },
            "type": "scattercarpet"
           }
          ],
          "scattergeo": [
           {
            "marker": {
             "colorbar": {
              "outlinewidth": 0,
              "ticks": ""
             }
            },
            "type": "scattergeo"
           }
          ],
          "scattergl": [
           {
            "marker": {
             "colorbar": {
              "outlinewidth": 0,
              "ticks": ""
             }
            },
            "type": "scattergl"
           }
          ],
          "scattermapbox": [
           {
            "marker": {
             "colorbar": {
              "outlinewidth": 0,
              "ticks": ""
             }
            },
            "type": "scattermapbox"
           }
          ],
          "scatterpolar": [
           {
            "marker": {
             "colorbar": {
              "outlinewidth": 0,
              "ticks": ""
             }
            },
            "type": "scatterpolar"
           }
          ],
          "scatterpolargl": [
           {
            "marker": {
             "colorbar": {
              "outlinewidth": 0,
              "ticks": ""
             }
            },
            "type": "scatterpolargl"
           }
          ],
          "scatterternary": [
           {
            "marker": {
             "colorbar": {
              "outlinewidth": 0,
              "ticks": ""
             }
            },
            "type": "scatterternary"
           }
          ],
          "surface": [
           {
            "colorbar": {
             "outlinewidth": 0,
             "ticks": ""
            },
            "colorscale": [
             [
              0,
              "#0d0887"
             ],
             [
              0.1111111111111111,
              "#46039f"
             ],
             [
              0.2222222222222222,
              "#7201a8"
             ],
             [
              0.3333333333333333,
              "#9c179e"
             ],
             [
              0.4444444444444444,
              "#bd3786"
             ],
             [
              0.5555555555555556,
              "#d8576b"
             ],
             [
              0.6666666666666666,
              "#ed7953"
             ],
             [
              0.7777777777777778,
              "#fb9f3a"
             ],
             [
              0.8888888888888888,
              "#fdca26"
             ],
             [
              1,
              "#f0f921"
             ]
            ],
            "type": "surface"
           }
          ],
          "table": [
           {
            "cells": {
             "fill": {
              "color": "#EBF0F8"
             },
             "line": {
              "color": "white"
             }
            },
            "header": {
             "fill": {
              "color": "#C8D4E3"
             },
             "line": {
              "color": "white"
             }
            },
            "type": "table"
           }
          ]
         },
         "layout": {
          "annotationdefaults": {
           "arrowcolor": "#2a3f5f",
           "arrowhead": 0,
           "arrowwidth": 1
          },
          "autotypenumbers": "strict",
          "coloraxis": {
           "colorbar": {
            "outlinewidth": 0,
            "ticks": ""
           }
          },
          "colorscale": {
           "diverging": [
            [
             0,
             "#8e0152"
            ],
            [
             0.1,
             "#c51b7d"
            ],
            [
             0.2,
             "#de77ae"
            ],
            [
             0.3,
             "#f1b6da"
            ],
            [
             0.4,
             "#fde0ef"
            ],
            [
             0.5,
             "#f7f7f7"
            ],
            [
             0.6,
             "#e6f5d0"
            ],
            [
             0.7,
             "#b8e186"
            ],
            [
             0.8,
             "#7fbc41"
            ],
            [
             0.9,
             "#4d9221"
            ],
            [
             1,
             "#276419"
            ]
           ],
           "sequential": [
            [
             0,
             "#0d0887"
            ],
            [
             0.1111111111111111,
             "#46039f"
            ],
            [
             0.2222222222222222,
             "#7201a8"
            ],
            [
             0.3333333333333333,
             "#9c179e"
            ],
            [
             0.4444444444444444,
             "#bd3786"
            ],
            [
             0.5555555555555556,
             "#d8576b"
            ],
            [
             0.6666666666666666,
             "#ed7953"
            ],
            [
             0.7777777777777778,
             "#fb9f3a"
            ],
            [
             0.8888888888888888,
             "#fdca26"
            ],
            [
             1,
             "#f0f921"
            ]
           ],
           "sequentialminus": [
            [
             0,
             "#0d0887"
            ],
            [
             0.1111111111111111,
             "#46039f"
            ],
            [
             0.2222222222222222,
             "#7201a8"
            ],
            [
             0.3333333333333333,
             "#9c179e"
            ],
            [
             0.4444444444444444,
             "#bd3786"
            ],
            [
             0.5555555555555556,
             "#d8576b"
            ],
            [
             0.6666666666666666,
             "#ed7953"
            ],
            [
             0.7777777777777778,
             "#fb9f3a"
            ],
            [
             0.8888888888888888,
             "#fdca26"
            ],
            [
             1,
             "#f0f921"
            ]
           ]
          },
          "colorway": [
           "#636efa",
           "#EF553B",
           "#00cc96",
           "#ab63fa",
           "#FFA15A",
           "#19d3f3",
           "#FF6692",
           "#B6E880",
           "#FF97FF",
           "#FECB52"
          ],
          "font": {
           "color": "#2a3f5f"
          },
          "geo": {
           "bgcolor": "white",
           "lakecolor": "white",
           "landcolor": "#E5ECF6",
           "showlakes": true,
           "showland": true,
           "subunitcolor": "white"
          },
          "hoverlabel": {
           "align": "left"
          },
          "hovermode": "closest",
          "mapbox": {
           "style": "light"
          },
          "paper_bgcolor": "white",
          "plot_bgcolor": "#E5ECF6",
          "polar": {
           "angularaxis": {
            "gridcolor": "white",
            "linecolor": "white",
            "ticks": ""
           },
           "bgcolor": "#E5ECF6",
           "radialaxis": {
            "gridcolor": "white",
            "linecolor": "white",
            "ticks": ""
           }
          },
          "scene": {
           "xaxis": {
            "backgroundcolor": "#E5ECF6",
            "gridcolor": "white",
            "gridwidth": 2,
            "linecolor": "white",
            "showbackground": true,
            "ticks": "",
            "zerolinecolor": "white"
           },
           "yaxis": {
            "backgroundcolor": "#E5ECF6",
            "gridcolor": "white",
            "gridwidth": 2,
            "linecolor": "white",
            "showbackground": true,
            "ticks": "",
            "zerolinecolor": "white"
           },
           "zaxis": {
            "backgroundcolor": "#E5ECF6",
            "gridcolor": "white",
            "gridwidth": 2,
            "linecolor": "white",
            "showbackground": true,
            "ticks": "",
            "zerolinecolor": "white"
           }
          },
          "shapedefaults": {
           "line": {
            "color": "#2a3f5f"
           }
          },
          "ternary": {
           "aaxis": {
            "gridcolor": "white",
            "linecolor": "white",
            "ticks": ""
           },
           "baxis": {
            "gridcolor": "white",
            "linecolor": "white",
            "ticks": ""
           },
           "bgcolor": "#E5ECF6",
           "caxis": {
            "gridcolor": "white",
            "linecolor": "white",
            "ticks": ""
           }
          },
          "title": {
           "x": 0.05
          },
          "xaxis": {
           "automargin": true,
           "gridcolor": "white",
           "linecolor": "white",
           "ticks": "",
           "title": {
            "standoff": 15
           },
           "zerolinecolor": "white",
           "zerolinewidth": 2
          },
          "yaxis": {
           "automargin": true,
           "gridcolor": "white",
           "linecolor": "white",
           "ticks": "",
           "title": {
            "standoff": 15
           },
           "zerolinecolor": "white",
           "zerolinewidth": 2
          }
         }
        },
        "title": {
         "text": "Number of Crashes by Weather Condition"
        }
       }
      }
     },
     "metadata": {},
     "output_type": "display_data"
    }
   ],
   "source": [
    "# Filter the data to include only crashes with weather data\n",
    "crashes_with_weather = df[df['WEATHER_CONDITION'] != 'No Information']\n",
    "\n",
    "# Get the counts of crashes for each weather condition\n",
    "weather_counts = crashes_with_weather['WEATHER_CONDITION'].value_counts()\n",
    "\n",
    "# Create the pie chart\n",
    "fig = px.pie(weather_counts,\n",
    "             names=weather_counts.index,\n",
    "             values=weather_counts.values,\n",
    "             title='Number of Crashes by Weather Condition',\n",
    "             )\n",
    "\n",
    "# Show the chart\n",
    "fig.show()"
   ]
  }
 ],
 "metadata": {
  "kernelspec": {
   "display_name": "Python 3",
   "language": "python",
   "name": "python3"
  },
  "language_info": {
   "codemirror_mode": {
    "name": "ipython",
    "version": 3
   },
   "file_extension": ".py",
   "mimetype": "text/x-python",
   "name": "python",
   "nbconvert_exporter": "python",
   "pygments_lexer": "ipython3",
   "version": "3.11.5"
  }
 },
 "nbformat": 4,
 "nbformat_minor": 2
}
